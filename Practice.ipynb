{
 "cells": [
  {
   "cell_type": "markdown",
   "id": "53cb050c",
   "metadata": {},
   "source": [
    "# 1.  Show the output in the specified format:\n",
    "Twinkle, twinkle, little star,\n",
    "\tHow I wonder what you are! \n",
    "\t\tUp above the world so high,   \t\t\n",
    "\t\tLike a diamond in the sky. \n",
    "Twinkle, twinkle, little star, \n",
    "\tHow I wonder what you are!"
   ]
  },
  {
   "cell_type": "code",
   "execution_count": null,
   "id": "dc58b4ef",
   "metadata": {},
   "outputs": [],
   "source": [
    "print(\"Twinkle, twinkle, little star, \\n\\tHow I wonder what you are! \\n\\t\\tUp above the world so high, \\n\\t\\tLike a diamond in the sky. \\nTwinkle, twinkle, little star, \\n\\tHow I wonder what you are!\")\n"
   ]
  },
  {
   "cell_type": "markdown",
   "id": "5249879c",
   "metadata": {},
   "source": [
    "# 2. Write a Python program to display the current date and time."
   ]
  },
  {
   "cell_type": "code",
   "execution_count": null,
   "id": "6f142b7c",
   "metadata": {},
   "outputs": [],
   "source": [
    "import datetime\n",
    "\n",
    "now = datetime.datetime.now()\n",
    "\n",
    "print(\"Current date and time : \")\n",
    "\n",
    "print(now.strftime(\"%Y-%m-%d %H:%M:%S\"))"
   ]
  },
  {
   "cell_type": "markdown",
   "id": "7709e997",
   "metadata": {},
   "source": [
    "# 3. Write a Python program that accepts the user's first and last name and prints them in reverse order with a space between them."
   ]
  },
  {
   "cell_type": "code",
   "execution_count": null,
   "id": "306611c5",
   "metadata": {},
   "outputs": [],
   "source": [
    "fname = input(\"Input your First Name : \")\n",
    "\n",
    "lname = input(\"Input your Last Name : \")\n",
    "\n",
    "print(\"Hello  \" + lname + \" \" + fname)"
   ]
  },
  {
   "cell_type": "markdown",
   "id": "fb92aa4a",
   "metadata": {},
   "source": [
    "# 4. Write a Python program that accepts a filename from the user and prints the extension of the file."
   ]
  },
  {
   "cell_type": "code",
   "execution_count": null,
   "id": "0671e5f7",
   "metadata": {},
   "outputs": [],
   "source": [
    "filename = input(\"Input the Filename: \")\n",
    "\n",
    "f_extns = filename.split(\".\")\n",
    "\n",
    "print(\"The extension of the file is : \" + repr(f_extns[-1]))"
   ]
  },
  {
   "cell_type": "markdown",
   "id": "36a2b396",
   "metadata": {},
   "source": [
    "# 5. Write a Python program that accepts an integer (n) and computes the value of n+nn+nnn."
   ]
  },
  {
   "cell_type": "code",
   "execution_count": null,
   "id": "671b8439",
   "metadata": {},
   "outputs": [],
   "source": [
    "n = float(input(\"ENTER THE VALUE OF n: \"))\n",
    "\n",
    "expression = (n+(n*n)+(n*n*n))\n",
    "\n",
    "print(\"YOUR EXPRESSION IS: \", expression)"
   ]
  },
  {
   "cell_type": "markdown",
   "id": "cc2c67e5",
   "metadata": {},
   "source": [
    "# 6. Write a Python program to find out what version of Python you are using."
   ]
  },
  {
   "cell_type": "code",
   "execution_count": null,
   "id": "16f492a5",
   "metadata": {},
   "outputs": [],
   "source": [
    "import sys\n",
    "\n",
    "print(\"VERSION\")\n",
    "print(sys.version)\n",
    "\n",
    "print(\"VERSION INFO\")\n",
    "print(sys.version_info)"
   ]
  },
  {
   "cell_type": "markdown",
   "id": "f2c90778",
   "metadata": {},
   "source": [
    "# 7. Write a Python program that prints the calendar for a given month and year."
   ]
  },
  {
   "cell_type": "code",
   "execution_count": null,
   "id": "824c5111",
   "metadata": {},
   "outputs": [],
   "source": [
    "import calendar\n",
    "\n",
    "\"\"\" y = int(input(\"Input the year : \"))\n",
    "m = int(input(\"Input the month : \"))\n",
    "\n",
    "print(calendar.month(y, m)) \"\"\"\n",
    "print(calendar.month(2024, 6, 4, 3))\n"
   ]
  },
  {
   "cell_type": "markdown",
   "id": "e858dff3",
   "metadata": {},
   "source": [
    "# 8. Write a Python program that calculates the area and circumference of a circle based on the radius entered by the user."
   ]
  },
  {
   "cell_type": "code",
   "execution_count": null,
   "id": "8c12a30b",
   "metadata": {},
   "outputs": [],
   "source": [
    "import math\n",
    "radius = float(input(\"ENTER RADIUS: \"))\n",
    "\n",
    "AREA = (math.pi*radius**2)\n",
    "CIRCUMFERANCE = (2*math.pi*radius)\n",
    "\n",
    "print(\"THE AREA IS: %.2f\"% AREA)\n",
    "print(\"THE CIRCUMFERANCE IS: %.2f\"% CIRCUMFERANCE)"
   ]
  },
  {
   "cell_type": "markdown",
   "id": "582b866a",
   "metadata": {},
   "source": [
    "# 9. Write a Python program to calculate the number of days between two dates."
   ]
  },
  {
   "cell_type": "code",
   "execution_count": null,
   "id": "73526842",
   "metadata": {},
   "outputs": [],
   "source": [
    "f_date = date(2014, 7, 2)\n",
    "\n",
    "l_date = date(2014, 7, 11)\n",
    "\n",
    "delta = l_date - f_date\n",
    "\n",
    "print(delta.days)"
   ]
  },
  {
   "cell_type": "markdown",
   "id": "3fe1f806",
   "metadata": {},
   "source": [
    "# 10. Write a Python program to get the volume of a sphere with user-specified radius"
   ]
  },
  {
   "cell_type": "code",
   "execution_count": null,
   "id": "57272798",
   "metadata": {},
   "outputs": [],
   "source": [
    "import math\n",
    "\n",
    "radius = float(input(\"ENTER RADIUS: \"))\n",
    "\n",
    "V = 4.0/3.0 * math.pi * radius**3\n",
    "\n",
    "print('The volume of the sphere is: ', V)"
   ]
  },
  {
   "cell_type": "markdown",
   "id": "effc8a70",
   "metadata": {},
   "source": [
    "# 11. Write a Python program to calculate the difference between a given number and 17. If the number is greater than 17, return twice the absolute difference."
   ]
  },
  {
   "cell_type": "code",
   "execution_count": null,
   "id": "f9aec134",
   "metadata": {},
   "outputs": [],
   "source": [
    "def difference(n):\n",
    "    if n <= 17:\n",
    "        return 17 - n\n",
    "    else:\n",
    "        return (n - 17) * 2\n",
    "\n",
    "n = int(input(\"ENTER THE NUMMBER: \"))\n",
    "\n",
    "print(difference(n))"
   ]
  },
  {
   "cell_type": "markdown",
   "id": "36259334",
   "metadata": {},
   "source": [
    "# 12. Write a Python program to calculate the sum of three given numbers. If the values are equal, return three times their sum."
   ]
  },
  {
   "cell_type": "code",
   "execution_count": null,
   "id": "fd1286f3",
   "metadata": {},
   "outputs": [],
   "source": [
    "a = int(input(\"ENTER THE VALUE OF a: \"))\n",
    "b = int(input(\"ENTER THE VALUE OF b: \"))\n",
    "c = int(input(\"ENTER THE VALUE OF c: \"))\n",
    "\n",
    "sum = a+b+c\n",
    "same= a**3\n",
    "if (a==b==c):\n",
    "    print(\"THE PRODUCT IS: \", same)\n",
    "else:\n",
    "    print(\"THE SUM IS: \", sum)"
   ]
  },
  {
   "cell_type": "markdown",
   "id": "d08e9e73",
   "metadata": {},
   "source": [
    "# 13. Write a Python program to get a newly-generated string from a given string where \"Is\" has been added to the front. Return the string unchanged if the given string already begins with \"Is\"."
   ]
  },
  {
   "cell_type": "code",
   "execution_count": null,
   "id": "6246f599",
   "metadata": {},
   "outputs": [],
   "source": [
    "def new_string(text):\n",
    "    if len(text) >= 2 and text[:2] == \"Is\":\n",
    "        return text\n",
    "    else:\n",
    "        return \"Is \" + text\n",
    "\n",
    "text = input(\"ENTER YOUR STRING: \")\n",
    "print(new_string(text))"
   ]
  },
  {
   "cell_type": "markdown",
   "id": "bca81351",
   "metadata": {},
   "source": [
    "# 14. Write a Python program that returns a string that is n (non-negative integer) copies of a given string."
   ]
  },
  {
   "cell_type": "code",
   "execution_count": null,
   "id": "d8f8ba7d",
   "metadata": {},
   "outputs": [],
   "source": [
    "def larger_string(text, n):\n",
    "    result = \"\"\n",
    "    for i in range(n):\n",
    "        result = result + text\n",
    "\n",
    "    return result\n",
    "\n",
    "print(larger_string('abc', 2))\n",
    "\n",
    "print(larger_string('.py', 3))"
   ]
  },
  {
   "cell_type": "markdown",
   "id": "be82ac17",
   "metadata": {},
   "source": [
    "# 15. Write a Python program to test whether a passed letter is a vowel or not."
   ]
  },
  {
   "cell_type": "code",
   "execution_count": null,
   "id": "7d65f27f",
   "metadata": {},
   "outputs": [],
   "source": [
    "def is_vowel(char):\n",
    "    all_vowels = 'aeiou'\n",
    "\n",
    "    return char in all_vowels\n",
    "\n",
    "print(is_vowel('c'))  \n",
    "print(is_vowel('e')) "
   ]
  },
  {
   "cell_type": "markdown",
   "id": "81cd4f03",
   "metadata": {},
   "source": [
    "# 16. Write a Python program that checks whether a specified value is contained within a group of values."
   ]
  },
  {
   "cell_type": "code",
   "execution_count": null,
   "id": "81c27075",
   "metadata": {},
   "outputs": [],
   "source": [
    "def is_group_member(group_data, n):\n",
    "    for value in group_data:\n",
    "        if n == value:\n",
    "            return True  \n",
    "    return False  \n",
    "\n",
    "print(is_group_member([1, 5, 8, 3], 3)) \n",
    "print(is_group_member([5, 8, 3], -1))  "
   ]
  },
  {
   "cell_type": "markdown",
   "id": "668f1a8f",
   "metadata": {},
   "source": [
    "# 17. Write a Python program to create a histogram from a given list of integers."
   ]
  },
  {
   "cell_type": "code",
   "execution_count": null,
   "id": "8774c6ce",
   "metadata": {},
   "outputs": [],
   "source": [
    "def histogram(items):\n",
    "    for n in items:\n",
    "        output = ''  \n",
    "        times = n     \n",
    "        \n",
    "        while times > 0:\n",
    "            output += '*'\n",
    "            times = times - 1 \n",
    "        \n",
    "        print(output)\n",
    "\n",
    "histogram([2, 3, 6, 5])"
   ]
  },
  {
   "cell_type": "markdown",
   "id": "45109a80",
   "metadata": {},
   "source": [
    "# 18. Write a Python program that concatenates all elements in a list into a string and returns it."
   ]
  },
  {
   "cell_type": "code",
   "execution_count": null,
   "id": "ce5f8782",
   "metadata": {},
   "outputs": [],
   "source": [
    "def concatenate_list_data(lst):\n",
    "    result = ''  \n",
    "    \n",
    "    for element in lst:\n",
    "        result += str(element) \n",
    "\n",
    "    return result  \n",
    "\n",
    "print(concatenate_list_data([1, 5, 12, 2]))"
   ]
  },
  {
   "cell_type": "markdown",
   "id": "8e5541cc",
   "metadata": {},
   "source": [
    "# 19.  Write a Python program that computes the greatest common divisor (GCD) of two positive integers."
   ]
  },
  {
   "cell_type": "code",
   "execution_count": null,
   "id": "ef1be7f6",
   "metadata": {},
   "outputs": [],
   "source": [
    "def gcd(x, y):\n",
    "    gcd = 1\n",
    "    \n",
    "    if x % y == 0:\n",
    "        return y\n",
    "    \n",
    "    for k in range(int(y / 2), 0, -1):\n",
    "        if x % k == 0 and y % k == 0:\n",
    "            gcd = k\n",
    "            break\n",
    "    \n",
    "    return gcd\n",
    "\n",
    "x = int(input(\"ENTER THE FIRST GCD NUMBER: \"))\n",
    "y = int(input(\"ENTER THE SECOND GCD NUMBER: \"))\n",
    "print(\"GCD of\", x, \"and\", y, \"=\", gcd(x, y))"
   ]
  },
  {
   "cell_type": "markdown",
   "id": "cfc1053c",
   "metadata": {},
   "source": [
    "# 20. Write a Python program to find the least common multiple (LCM) of two positive integers."
   ]
  },
  {
   "cell_type": "code",
   "execution_count": null,
   "id": "b434799b",
   "metadata": {},
   "outputs": [],
   "source": [
    "def lcm(x, y):\n",
    "    if x > y:\n",
    "        z = x\n",
    "    else:\n",
    "        z = y\n",
    "    \n",
    "    while True:\n",
    "        if (z % x == 0) and (z % y == 0):\n",
    "            lcm = z\n",
    "            break\n",
    "        z += 1\n",
    "    \n",
    "    return lcm\n",
    "\n",
    "x = int(input(\"ENTER FIRST LCM NUMBER: \"))\n",
    "y = int(input(\"ENTER SECOND LCM NUMBER: \"))\n",
    "print(lcm(x, y))"
   ]
  },
  {
   "cell_type": "markdown",
   "id": "bf329010",
   "metadata": {},
   "source": [
    "# 21. Write a Python program to sum three given integers. However, if two values are equal, the sum will be zero."
   ]
  },
  {
   "cell_type": "code",
   "execution_count": null,
   "id": "58357af1",
   "metadata": {},
   "outputs": [],
   "source": [
    "def sum_three(x, y, z):\n",
    "    if x==y or y==z or z==x:\n",
    "        sum=0\n",
    "    else:\n",
    "        sum = x+y+z\n",
    "    return sum\n",
    "\n",
    "x=int(input(\"ENTER x: \"))\n",
    "\n",
    "y=int(input(\"ENTER y: \"))\n",
    "\n",
    "z=int(input(\"ENTER z: \"))\n",
    "\n",
    "print(\"THE SUM IS: \", sum_three(x, y, z))"
   ]
  },
  {
   "cell_type": "markdown",
   "id": "4455ba48",
   "metadata": {},
   "source": [
    "# 22. Write a Python program that returns true if the two given integer values are equal or their sum or difference is 5."
   ]
  },
  {
   "cell_type": "code",
   "execution_count": null,
   "id": "6eeeea0d",
   "metadata": {},
   "outputs": [],
   "source": [
    "def test_number5(x, y):\n",
    "    if x == y or abs(x - y) == 5 or (x + y) == 5:\n",
    "        return True\n",
    "    else:\n",
    "        return False\n",
    "\n",
    "x = int(input(\"ENTER x: \"))\n",
    "\n",
    "y = int(input(\"ENTER y: \"))\n",
    "print(\"THE RESULT IS: \", test_number5(x, y))"
   ]
  },
  {
   "cell_type": "markdown",
   "id": "799b4c3a",
   "metadata": {},
   "source": [
    "# 23. Write a Python program to add two objects if both objects are integers."
   ]
  },
  {
   "cell_type": "code",
   "execution_count": null,
   "id": "6efd2f5f",
   "metadata": {},
   "outputs": [],
   "source": [
    "def add_numbers(a, b):\n",
    "    if not (isinstance(a, int) and isinstance(b, int)):\n",
    "        return \"Inputs must be integers!\"\n",
    "    return a + b\n",
    "\n",
    "print(add_numbers(10, 20))     \n",
    "print(add_numbers(10, 20.23))  \n",
    "print(add_numbers('5', 6))  \n",
    "print(add_numbers('5', '6'))"
   ]
  },
  {
   "cell_type": "markdown",
   "id": "b9154cdb",
   "metadata": {},
   "source": [
    "# 24. Write a Python program to solve (a+b)^2"
   ]
  },
  {
   "cell_type": "code",
   "execution_count": null,
   "id": "e49cf1ec",
   "metadata": {},
   "outputs": [],
   "source": [
    "a = float(input(\"ENTER a: \"))\n",
    "b = float(input(\"ENTER b: \"))\n",
    "\n",
    "solution = (a**2)+(2*a*b)+(b**2)\n",
    "\n",
    "print(solution)"
   ]
  },
  {
   "cell_type": "markdown",
   "id": "3b8f8aad",
   "metadata": {},
   "source": [
    "# 25. Magic  Commands"
   ]
  },
  {
   "cell_type": "code",
   "execution_count": null,
   "id": "a0560e97",
   "metadata": {},
   "outputs": [],
   "source": [
    "%whos"
   ]
  },
  {
   "cell_type": "code",
   "execution_count": null,
   "id": "0bae045b",
   "metadata": {},
   "outputs": [],
   "source": [
    "%who"
   ]
  },
  {
   "cell_type": "code",
   "execution_count": null,
   "id": "c1ff09fa",
   "metadata": {},
   "outputs": [],
   "source": [
    "%who_ls"
   ]
  },
  {
   "cell_type": "code",
   "execution_count": null,
   "id": "4f8aae1f",
   "metadata": {},
   "outputs": [],
   "source": [
    "\"\"\" %reset \"\"\""
   ]
  },
  {
   "cell_type": "code",
   "execution_count": null,
   "id": "33efc327",
   "metadata": {},
   "outputs": [],
   "source": [
    "%magic \"\"\"List\"\"\""
   ]
  },
  {
   "cell_type": "code",
   "execution_count": null,
   "id": "76579a2d",
   "metadata": {},
   "outputs": [],
   "source": [
    "%gui"
   ]
  },
  {
   "cell_type": "code",
   "execution_count": null,
   "id": "c775232d",
   "metadata": {},
   "outputs": [],
   "source": [
    "a?"
   ]
  },
  {
   "cell_type": "code",
   "execution_count": null,
   "id": "01872eae",
   "metadata": {},
   "outputs": [],
   "source": [
    "a??  \"\"\"givws the code/logic of the variable\"\"\""
   ]
  },
  {
   "cell_type": "code",
   "execution_count": null,
   "id": "badc20d2",
   "metadata": {},
   "outputs": [],
   "source": [
    "%run \"\"\"takes the varibales n memory\"/automatically namspace comes in jupyter\"\""
   ]
  },
  {
   "cell_type": "code",
   "execution_count": null,
   "id": "a8b704d7",
   "metadata": {},
   "outputs": [],
   "source": [
    "%ls"
   ]
  },
  {
   "cell_type": "markdown",
   "id": "4f3d418a",
   "metadata": {},
   "source": [
    "# 26. Write a Python program to calculate the midpoints of a line."
   ]
  },
  {
   "cell_type": "code",
   "execution_count": null,
   "id": "66a7913b",
   "metadata": {},
   "outputs": [],
   "source": [
    "print('\\nCalculate the midpoint of a line :')\n",
    "\n",
    "x1 = float(input('The value of x (the first endpoint) '))\n",
    "y1 = float(input('The value of y (the first endpoint) '))\n",
    "\n",
    "x2 = float(input('The value of x (the first endpoint) '))\n",
    "y2 = float(input('The value of y (the first endpoint) '))\n",
    "\n",
    "x_m_point = (x1 + x2)/2\n",
    "\n",
    "y_m_point = (y1 + y2)/2\n",
    "print()\n",
    "\n",
    "print(\"The midpoint of the line is :\")\n",
    "\n",
    "print( \"The midpoint's x value is: \", x_m_point)\n",
    "\n",
    "print( \"The midpoint's y value is: \", y_m_point)\n"
   ]
  },
  {
   "cell_type": "markdown",
   "id": "58ffaf7a",
   "metadata": {},
   "source": [
    "# 27. Write a Python program to get the size of an object in bytes."
   ]
  },
  {
   "cell_type": "code",
   "execution_count": null,
   "id": "d5c4e8eb",
   "metadata": {},
   "outputs": [],
   "source": [
    "import sys  \n",
    "\n",
    "str1 = \"one\"\n",
    "str2 = \"four\"\n",
    "str3 = \"three\"\n",
    "x = 0\n",
    "y = 112\n",
    "z = 122.56\n",
    "\n",
    "print(\"Size of \", str1, \"=\", str(sys.getsizeof(str1)) + \" bytes\")\n",
    "print(\"Size of \", str2, \"=\", str(sys.getsizeof(str2)) + \" bytes\")\n",
    "print(\"Size of \", str3, \"=\", str(sys.getsizeof(str3)) + \" bytes\")\n",
    "print(\"Size of\", x, \"=\", str(sys.getsizeof(x)) + \" bytes\")\n",
    "print(\"Size of\", y, \"=\", str(sys.getsizeof(y)) + \" bytes\")\n",
    "\n",
    "L = [1, 2, 3, 'Red', 'Black']\n",
    "\n",
    "print(\"Size of\", L, \"=\", sys.getsizeof(L), \" bytes\")\n",
    "\n",
    "T = (\"Red\", [8, 4, 6], (1, 2, 3))\n",
    "\n",
    "print(\"Size of\", T, \"=\", sys.getsizeof(T), \" bytes\")\n",
    "\n",
    "S = {'apple', 'orange', 'apple', 'pear'}\n",
    "\n",
    "print(\"Size of\", S, \"=\", sys.getsizeof(S), \" bytes\")\n",
    "\n",
    "D = {'Name': 'David', 'Age': 6, 'Class': 'First'}\n",
    "\n",
    "print(\"Size of\", D, \"=\", sys.getsizeof(S), \" bytes\")\n"
   ]
  },
  {
   "cell_type": "markdown",
   "id": "743a68a2",
   "metadata": {},
   "source": [
    "# 28. Write a Python program to concatenate N strings."
   ]
  },
  {
   "cell_type": "code",
   "execution_count": null,
   "id": "8866d63b",
   "metadata": {},
   "outputs": [],
   "source": [
    "list_of_colors = ['Red', 'White', 'Black']\n",
    "colors = '-'.join(list_of_colors)\n",
    "print()\n",
    "print(\"All Colors: \" + colors)\n",
    "print()"
   ]
  },
  {
   "cell_type": "markdown",
   "id": "6fba127f",
   "metadata": {},
   "source": [
    "# 29. Write a Python program to get the ASCII value of a character."
   ]
  },
  {
   "cell_type": "code",
   "execution_count": null,
   "id": "1fc9638b",
   "metadata": {},
   "outputs": [],
   "source": [
    "print()\n",
    "\n",
    "print(ord('a'))\n",
    "\n",
    "print(ord('A'))\n",
    "\n",
    "print(ord('1'))\n",
    "\n",
    "print(ord('@'))\n",
    "\n",
    "print()"
   ]
  },
  {
   "cell_type": "markdown",
   "id": "98e94397",
   "metadata": {},
   "source": [
    "# 30. Write a Python program to get the size of a file."
   ]
  },
  {
   "cell_type": "code",
   "execution_count": null,
   "id": "be209a01",
   "metadata": {},
   "outputs": [],
   "source": [
    "import os\n",
    "file_size = os.path.getsize(\"Practice.ipynb\")\n",
    "print(\"\\nThe size of  Practice.ipynb is:\", file_size, \"Bytes\")\n",
    "print()"
   ]
  },
  {
   "cell_type": "markdown",
   "id": "014e0533",
   "metadata": {},
   "source": [
    "# 31. Write a Python program to get the Identity, Type, and Value of an object."
   ]
  },
  {
   "cell_type": "code",
   "execution_count": null,
   "id": "a5c63ec5",
   "metadata": {},
   "outputs": [],
   "source": [
    "x = 34, 45.5\n",
    "\n",
    "print(\"\\nIdentity: \", x)\n",
    "\n",
    "print(\"\\nType: \", type(x))\n",
    "\n",
    "print(\"\\nValue: \", id(x))"
   ]
  },
  {
   "cell_type": "markdown",
   "id": "64fd3a63",
   "metadata": {},
   "source": [
    "# 32. Write a Python program to get the name of the host on which the routine is running."
   ]
  },
  {
   "cell_type": "code",
   "execution_count": null,
   "id": "a2e70030",
   "metadata": {},
   "outputs": [],
   "source": [
    "import socket\n",
    "host_name = socket.gethostname()\n",
    "\n",
    "print(\"Host name:\", host_name)"
   ]
  },
  {
   "cell_type": "markdown",
   "id": "2be11502",
   "metadata": {},
   "source": [
    "# 33. String methods"
   ]
  },
  {
   "cell_type": "code",
   "execution_count": null,
   "id": "706a8110",
   "metadata": {},
   "outputs": [],
   "source": [
    "\"\"\" String methods \"\"\"\n",
    "x='hello world'\n",
    "\n",
    "print(x.upper())\n",
    "print(x.lower())\n",
    "print(x.capitalize())\n",
    "print(x.title())\n",
    "print(x.count('e'))\n",
    "print(x.find('e'))\n",
    "print(x.split())\n",
    "print(x.split('e'))\n",
    "print(x.split('e',1))\n",
    "print(x.rstrip())\n",
    "print(x.lstrip())\n",
    "print(len(x))\n",
    "print(\" \")\n",
    "print(x.replace('o', 'a')) # 'hhellll wrlld'\n",
    "print(x.strip()) # 'hello world'\n",
    "print(x.ljust(20)) # 'hello world        ' (20 spaces on the left)\n",
    "print(x.rjust(20)) # '        hello world' (20 spaces on the right)\n",
    "print(x.zfill(20)) # '000000hello world' (padded with zeros on the left)\n",
    "print(x.isalpha()) # False\n",
    "print(x.isdigit()) # False\n",
    "print(x.isalnum()) # True\n",
    "print(x.isascii()) # True\n",
    "print(x.islower()) # False\n",
    "print(x.isupper()) # False\n",
    "print(x.istitle()) # False\n",
    "print(x.startswith('he')) # True\n",
    "print(x.endswith('ld')) # True\n",
    "print(' '.join(['hello', 'world'])) # 'hello world'\n",
    "\n",
    "print(x[-5:-1:2])"
   ]
  },
  {
   "cell_type": "code",
   "execution_count": null,
   "id": "8aa0dce6",
   "metadata": {},
   "outputs": [],
   "source": [
    "x='{0} institutte, {1}'\n",
    "y=x.format('darshan', 'Rajkot')\n",
    "print(y)"
   ]
  },
  {
   "cell_type": "markdown",
   "id": "99f1d90f",
   "metadata": {},
   "source": [
    "# 34. Write a Python program to filter positive numbers from a list."
   ]
  },
  {
   "cell_type": "code",
   "execution_count": null,
   "id": "f37468fe",
   "metadata": {},
   "outputs": [],
   "source": [
    "nums = [34, 1, 0, -23, 12, -88]\n",
    "\n",
    "print(\"Original numbers in the list: \", nums)\n",
    "\n",
    "new_nums = list(filter(lambda x: x > 0, nums))\n",
    "\n",
    "print(\"Positive numbers in the said list: \", new_nums)"
   ]
  },
  {
   "cell_type": "markdown",
   "id": "e45c2237",
   "metadata": {},
   "source": [
    "# 35. Write a Python program to print Unicode characters."
   ]
  },
  {
   "cell_type": "code",
   "execution_count": null,
   "id": "bb02dc35",
   "metadata": {},
   "outputs": [],
   "source": [
    "str = u'\\u0050\\u0079\\u0074\\u0068\\u006f\\u006e \\u0045\\u0078\\u0065\\u0072\\u0063\\u0069\\u0073\\u0065\\u0073 \\u002d \\u0077\\u0033\\u0072\\u0065\\u0073\\u006f\\u0075\\u0072\\u0063\\u0065'\n",
    "\n",
    "print()\n",
    "\n",
    "print(str)\n",
    "\n",
    "print()"
   ]
  },
  {
   "cell_type": "markdown",
   "id": "fc6b6dcd",
   "metadata": {},
   "source": [
    "# 36. Write a Python program to prove that two string variables of the same value point to the same memory location."
   ]
  },
  {
   "cell_type": "code",
   "execution_count": null,
   "id": "45b98406",
   "metadata": {},
   "outputs": [],
   "source": [
    "str1 = \"Python\"\n",
    "str2 = \"Python\"\n",
    " \n",
    "print(\"\\nMemory location of str1 =\", hex(id(str1)))\n",
    "print(\"Memory location of str2 =\", hex(id(str2)))\n",
    "\n",
    "print()"
   ]
  },
  {
   "cell_type": "markdown",
   "id": "d5200452",
   "metadata": {},
   "source": [
    "# 37. Write a Python program to round a floating-point number to a specified number of decimal places."
   ]
  },
  {
   "cell_type": "code",
   "execution_count": null,
   "id": "5dacdbdb",
   "metadata": {},
   "outputs": [],
   "source": [
    "order_amt = 212.374\n",
    "\n",
    "print('\\nThe total order amount comes to %f' % order_amt)\n",
    "\n",
    "print('The total order amount comes to %.2f' % order_amt)\n",
    "print('The total order amount comes to %.3f' % order_amt)\n",
    "\n",
    "print()"
   ]
  },
  {
   "cell_type": "markdown",
   "id": "cc2d0e7e",
   "metadata": {},
   "source": [
    "# 38. Write a Python program to format a specified string and limit the length of a string."
   ]
  },
  {
   "cell_type": "code",
   "execution_count": null,
   "id": "32d4cbac",
   "metadata": {},
   "outputs": [],
   "source": [
    "str_num = \"1234567890\"\n",
    "\n",
    "print(\"Original string:\", str_num)\n",
    "\n",
    "print('%.6s' % str_num)\n",
    "\n",
    "print('%.9s' % str_num)\n",
    "\n",
    "print('%.10s' % str_num)"
   ]
  },
  {
   "cell_type": "markdown",
   "id": "024b8ca6",
   "metadata": {},
   "source": [
    "# 39. Write a Python program to determine if a variable is defined or not."
   ]
  },
  {
   "cell_type": "code",
   "execution_count": null,
   "id": "65b61f57",
   "metadata": {},
   "outputs": [],
   "source": [
    "try:\n",
    "  x = 1\n",
    "except NameError:\n",
    "  print(\"Variable is not defined....!\")\n",
    "else:\n",
    "  print(\"Variable is defined.\")\n",
    "\n",
    "try:\n",
    "  y\n",
    "except NameError:\n",
    "  print(\"Variable is not defined....!\")\n",
    "else:\n",
    "  print(\"Variable is defined.\")"
   ]
  },
  {
   "cell_type": "markdown",
   "id": "a2ed2e60",
   "metadata": {},
   "source": [
    "# 40. Write a Python program to empty a variable without destroying it."
   ]
  },
  {
   "cell_type": "code",
   "execution_count": null,
   "id": "a2d76a66",
   "metadata": {},
   "outputs": [],
   "source": [
    "n = 20\n",
    "\n",
    "d = {\"x\": 200}\n",
    "\n",
    "l = [1, 3, 5]\n",
    "\n",
    "t = (5, 7, 8)\n",
    "\n",
    "print(type(n)())\n",
    "\n",
    "print(type(d)())\n",
    "\n",
    "print(type(l)())\n",
    "\n",
    "print(type(t)())\n"
   ]
  },
  {
   "cell_type": "code",
   "execution_count": null,
   "id": "2d91c8e4",
   "metadata": {},
   "outputs": [],
   "source": [
    "def Empty_Var(lst):\n",
    "    return [type(i)() for i in lst]\n",
    "\n",
    "lst = [\"python\", {\"x\": 12}, [10, 12, \"sfsd\"], (4, 5), 200]\n",
    "\n",
    "print(\"Original objects:\")\n",
    "print(lst)\n",
    "\n",
    "print(\"\\nEmpty the said variables without destroying them:\")\n",
    "print(Empty_Var(lst)) \n"
   ]
  },
  {
   "cell_type": "markdown",
   "id": "341cd80f",
   "metadata": {},
   "source": [
    "# 41. Write a Python program to sum all counts in a collection."
   ]
  },
  {
   "cell_type": "code",
   "execution_count": null,
   "id": "08664a8a",
   "metadata": {},
   "outputs": [],
   "source": [
    "import collections\n",
    "\n",
    "num = [2, 2, 4, 6, 6, 8, 6, 10, 4]\n",
    "\n",
    "result = sum(collections.Counter(num).values())\n",
    "\n",
    "print(result)"
   ]
  },
  {
   "cell_type": "code",
   "execution_count": null,
   "id": "5f2e1b47",
   "metadata": {},
   "outputs": [],
   "source": [
    "nums = [2, 2, 4, 6, 6, 8, 6, 10, 4]\n",
    "\n",
    "print(len(nums))"
   ]
  },
  {
   "cell_type": "markdown",
   "id": "2a51544c",
   "metadata": {},
   "source": [
    "# 44. Write a Python program to check whether lowercase letters exist in a string."
   ]
  },
  {
   "cell_type": "code",
   "execution_count": null,
   "id": "a35f3ac9",
   "metadata": {},
   "outputs": [],
   "source": [
    "str1 = 'A8238i823acdeOUEI'\n",
    "\n",
    "print(any(c.islower() for c in str1))"
   ]
  },
  {
   "cell_type": "markdown",
   "id": "ee86bbd4",
   "metadata": {},
   "source": [
    "# 45. Write a Python program to list the home directory without an absolute path."
   ]
  },
  {
   "cell_type": "code",
   "execution_count": null,
   "id": "9529b113",
   "metadata": {},
   "outputs": [],
   "source": [
    "import os.path\n",
    "print(os.path.expanduser('~'))"
   ]
  },
  {
   "cell_type": "markdown",
   "id": "fc308fc9",
   "metadata": {},
   "source": [
    "# 46. "
   ]
  }
 ],
 "metadata": {
  "kernelspec": {
   "display_name": "Python 3 (ipykernel)",
   "language": "python",
   "name": "python3"
  },
  "language_info": {
   "codemirror_mode": {
    "name": "ipython",
    "version": 3
   },
   "file_extension": ".py",
   "mimetype": "text/x-python",
   "name": "python",
   "nbconvert_exporter": "python",
   "pygments_lexer": "ipython3",
   "version": "3.12.1"
  }
 },
 "nbformat": 4,
 "nbformat_minor": 5
}
